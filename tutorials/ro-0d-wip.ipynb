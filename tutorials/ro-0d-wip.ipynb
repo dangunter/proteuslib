{
 "cells": [
  {
   "cell_type": "markdown",
   "metadata": {},
   "source": [
    "# Introduction to the Reverse Osmosis Unit Model\n",
    "This tutorial shows how to build, initialize, simulate, and optimize a reverse osmosis (RO) unit model using WaterTAP. In this example, we will minimize the specific energy consumption of the RO unit."
   ]
  },
  {
   "cell_type": "code",
   "execution_count": 1,
   "metadata": {
    "pycharm": {
     "is_executing": true
    }
   },
   "outputs": [],
   "source": [
    "# Python magics from dsl.py\n",
    "%load_ext dsl\n",
    "# Utility functions to retrieve result objects\n",
    "from dsl import get_model, get_results"
   ]
  },
  {
   "cell_type": "code",
   "execution_count": 6,
   "metadata": {},
   "outputs": [
    {
     "name": "stdout",
     "output_type": "stream",
     "text": [
      "Set an inlet parameter\n",
      "Subcommands:\n",
      "  flow: Set the flow rate for the liquid phase\n",
      "  pressure: Set the flow pressure\n",
      "  temperature: Set the flow temperature\n"
     ]
    }
   ],
   "source": [
    "%ii set inlet ?"
   ]
  },
  {
   "cell_type": "code",
   "execution_count": 4,
   "metadata": {},
   "outputs": [
    {
     "name": "stdout",
     "output_type": "stream",
     "text": [
      "Action: clear model\n",
      "Comment: create unit\n",
      "Action: unit RO-0D\n",
      "Comment: fix values\n",
      "Action: fix inlet flow mass NaCl <- 0.035\n",
      "Action: fix inlet flow mass H2O <- 0.965\n",
      "Action: fix inlet pressure <- 5000000.0\n",
      "Action: fix inlet temperature <- 298.15\n",
      "Comment: set membrane area 50\n",
      "Comment: set membrane permeability water 4.2e-12\n",
      "Comment: set membrane permeability salt 3.5e-8\n",
      "Comment: set permeate pressure 101325\n",
      "Comment: scale\n",
      "Unknown command: scale\n",
      "Unknown command: scale\n",
      "Comment: solve\n",
      "Unknown command: init\n",
      "Unknown command: solve\n"
     ]
    }
   ],
   "source": [
    "%%iic\n",
    "clear\n",
    "# create unit\n",
    "unit RO-0D\n",
    "# fix values\n",
    "set inlet flow mass NaCl 0.035\n",
    "set inlet flow mass H2O 0.965\n",
    "set inlet pressure 50e5\n",
    "set inlet temperature 298.15\n",
    "# set membrane area 50\n",
    "# set membrane permeability water 4.2e-12\n",
    "# set membrane permeability salt 3.5e-8\n",
    "# set permeate pressure 101325\n",
    "# scale\n",
    "scale flow mass NaCl 1e2\n",
    "scale flow mass H2O 1\n",
    "# solve\n",
    "init\n",
    "solve"
   ]
  },
  {
   "cell_type": "code",
   "execution_count": 3,
   "metadata": {},
   "outputs": [
    {
     "ename": "AttributeError",
     "evalue": "'NoneType' object has no attribute 'fs'",
     "output_type": "error",
     "traceback": [
      "\u001b[1;31m---------------------------------------------------------------------------\u001b[0m",
      "\u001b[1;31mAttributeError\u001b[0m                            Traceback (most recent call last)",
      "Input \u001b[1;32mIn [3]\u001b[0m, in \u001b[0;36m<module>\u001b[1;34m\u001b[0m\n\u001b[1;32m----> 1\u001b[0m \u001b[43mget_model\u001b[49m\u001b[43m(\u001b[49m\u001b[43m)\u001b[49m\u001b[38;5;241;43m.\u001b[39;49m\u001b[43mfs\u001b[49m\u001b[38;5;241m.\u001b[39munit\u001b[38;5;241m.\u001b[39mdisplay()\n",
      "\u001b[1;31mAttributeError\u001b[0m: 'NoneType' object has no attribute 'fs'"
     ]
    }
   ],
   "source": [
    "get_model().fs.unit.display()"
   ]
  },
  {
   "cell_type": "markdown",
   "metadata": {},
   "source": [
    "## Stopped here! Code below is standard IDAES Python"
   ]
  },
  {
   "cell_type": "markdown",
   "metadata": {},
   "source": [
    "## Step 7: Unfix variables, set variable bounds, and run optimization to minimize specific energy consumption."
   ]
  },
  {
   "cell_type": "code",
   "execution_count": null,
   "metadata": {},
   "outputs": [],
   "source": [
    "# Unfix membrane area and feed pressure\n",
    "m.fs.unit.area.unfix()                  # membrane area (m^2)\n",
    "m.fs.unit.inlet.pressure[0].unfix()     # feed pressure (Pa)"
   ]
  },
  {
   "cell_type": "code",
   "execution_count": null,
   "metadata": {},
   "outputs": [],
   "source": [
    "# Set lower and upper bounds for membrane area (m^2)\n",
    "m.fs.unit.area.setlb(1)\n",
    "m.fs.unit.area.setub(500)"
   ]
  },
  {
   "cell_type": "code",
   "execution_count": null,
   "metadata": {},
   "outputs": [],
   "source": [
    "# Set lower and upper bounds for feed pressure (Pa)\n",
    "m.fs.unit.inlet.pressure[0].setlb(10e5)\n",
    "m.fs.unit.inlet.pressure[0].setub(80e5)"
   ]
  },
  {
   "cell_type": "code",
   "execution_count": null,
   "metadata": {},
   "outputs": [],
   "source": [
    "# Assume 100% efficiency of pumps and ERD and no pressure losses\n",
    "#--> Pump power consumption ~ Qp*Pf/3.6e6\n",
    "m.fs.specific_energy_consumption = Expression(\n",
    "    expr=m.fs.unit.inlet.pressure[0]/(3.6e6))"
   ]
  },
  {
   "cell_type": "code",
   "execution_count": null,
   "metadata": {},
   "outputs": [],
   "source": [
    "# Define objective function to minimize the specific energy consumption.\n",
    "m.fs.objective = Objective(expr=m.fs.specific_energy_consumption)"
   ]
  },
  {
   "cell_type": "code",
   "execution_count": null,
   "metadata": {},
   "outputs": [],
   "source": [
    "# Set the water recovery to 50%\n",
    "m.fs.unit.recovery_vol_phase[0,'Liq'].fix(0.50)"
   ]
  },
  {
   "cell_type": "code",
   "execution_count": null,
   "metadata": {},
   "outputs": [],
   "source": [
    "# The solver will find the membrane area and \n",
    "# inlet pressure that achieve 50% recovery while minimizing\n",
    "# specific energy consumption. Since we fixed the \n",
    "# volumetric water recovery, a degree of freedom \n",
    "# was removed from the model.\n",
    "print(degrees_of_freedom(m))"
   ]
  },
  {
   "cell_type": "code",
   "execution_count": null,
   "metadata": {},
   "outputs": [],
   "source": [
    "optimization_results = solver.solve(m)"
   ]
  },
  {
   "cell_type": "code",
   "execution_count": null,
   "metadata": {},
   "outputs": [],
   "source": [
    "# membrane area of the optimized RO unit\n",
    "value(m.fs.unit.area)"
   ]
  },
  {
   "cell_type": "code",
   "execution_count": null,
   "metadata": {},
   "outputs": [],
   "source": [
    "# inlet pressure of the optimized RO unit\n",
    "value(m.fs.unit.inlet.pressure[0])"
   ]
  },
  {
   "cell_type": "code",
   "execution_count": null,
   "metadata": {},
   "outputs": [],
   "source": [
    "# the minimum specific energy consumption\n",
    "value(m.fs.specific_energy_consumption)"
   ]
  },
  {
   "cell_type": "code",
   "execution_count": null,
   "metadata": {},
   "outputs": [],
   "source": [
    "# display the overall report on the RO unit\n",
    "m.fs.unit.report()"
   ]
  },
  {
   "cell_type": "code",
   "execution_count": 4,
   "metadata": {},
   "outputs": [],
   "source": [
    "class T:\n",
    "    def __getitem__(self, key):\n",
    "        print(f\"getitem, key={key}\")"
   ]
  },
  {
   "cell_type": "code",
   "execution_count": 5,
   "metadata": {},
   "outputs": [],
   "source": [
    "t = T()"
   ]
  },
  {
   "cell_type": "code",
   "execution_count": 6,
   "metadata": {},
   "outputs": [
    {
     "name": "stdout",
     "output_type": "stream",
     "text": [
      "getitem, key=(1, 23)\n"
     ]
    }
   ],
   "source": [
    "t[1,23]"
   ]
  },
  {
   "cell_type": "code",
   "execution_count": 7,
   "metadata": {},
   "outputs": [],
   "source": [
    "x = [1,2,3]"
   ]
  },
  {
   "cell_type": "code",
   "execution_count": 8,
   "metadata": {},
   "outputs": [
    {
     "name": "stdout",
     "output_type": "stream",
     "text": [
      "getitem, key=[1, 2, 3]\n"
     ]
    }
   ],
   "source": [
    "t[x]"
   ]
  },
  {
   "cell_type": "code",
   "execution_count": 11,
   "metadata": {},
   "outputs": [
    {
     "name": "stdout",
     "output_type": "stream",
     "text": [
      "getitem, key=(1, 2, 3)\n"
     ]
    }
   ],
   "source": [
    "t[tuple(x)]"
   ]
  },
  {
   "cell_type": "code",
   "execution_count": null,
   "metadata": {},
   "outputs": [],
   "source": []
  }
 ],
 "metadata": {
  "kernelspec": {
   "display_name": "Python 3 (ipykernel)",
   "language": "python",
   "name": "python3"
  },
  "language_info": {
   "codemirror_mode": {
    "name": "ipython",
    "version": 3
   },
   "file_extension": ".py",
   "mimetype": "text/x-python",
   "name": "python",
   "nbconvert_exporter": "python",
   "pygments_lexer": "ipython3",
   "version": "3.8.12"
  }
 },
 "nbformat": 4,
 "nbformat_minor": 4
}
