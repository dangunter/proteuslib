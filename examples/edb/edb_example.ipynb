{
 "cells": [
  {
   "cell_type": "markdown",
   "id": "c7170ca2",
   "metadata": {},
   "source": [
    "# Simple EDB Example"
   ]
  },
  {
   "cell_type": "code",
   "execution_count": 1,
   "id": "e4ab39c6",
   "metadata": {},
   "outputs": [],
   "source": [
    "from watertap.edb import ElectrolyteDB"
   ]
  },
  {
   "cell_type": "markdown",
   "id": "4f4979a4",
   "metadata": {},
   "source": [
    "### Connect to the database"
   ]
  },
  {
   "cell_type": "code",
   "execution_count": 2,
   "id": "c15cd77a",
   "metadata": {},
   "outputs": [],
   "source": [
    "db = ElectrolyteDB()"
   ]
  },
  {
   "cell_type": "markdown",
   "id": "7b769423",
   "metadata": {},
   "source": [
    "### Get a 'base' for the configuration\n",
    "Either `thermo` or `water_reaction`, currently."
   ]
  },
  {
   "cell_type": "code",
   "execution_count": 3,
   "id": "dabf87d8",
   "metadata": {},
   "outputs": [],
   "source": [
    "wb = db.get_base(\"thermo\")"
   ]
  },
  {
   "cell_type": "markdown",
   "id": "fd8b5d18",
   "metadata": {},
   "source": [
    "### Get components\n",
    "You can get components explicitly or by giving a list of elements."
   ]
  },
  {
   "cell_type": "code",
   "execution_count": 4,
   "id": "a571477d",
   "metadata": {},
   "outputs": [],
   "source": [
    "element_list = [\"H\", \"O\"]\n",
    "\n",
    "components = db.get_components(element_names=element_list)"
   ]
  },
  {
   "cell_type": "markdown",
   "id": "95b36818",
   "metadata": {},
   "source": [
    "### Add components to base configuration"
   ]
  },
  {
   "cell_type": "code",
   "execution_count": 5,
   "id": "7cb38f9c",
   "metadata": {},
   "outputs": [
    {
     "name": "stdout",
     "output_type": "stream",
     "text": [
      "adding component H_+\n",
      "adding component OH_-\n",
      "adding component H2O\n"
     ]
    }
   ],
   "source": [
    "for comp in components:\n",
    "    print(f\"adding component {comp.name}\")\n",
    "    wb.add(comp)"
   ]
  },
  {
   "cell_type": "markdown",
   "id": "33fffa7a",
   "metadata": {},
   "source": [
    "### Get reactions\n",
    "You generally want to get all the reactions associated with the same set of components.\n",
    "But you can get whatever reactions you want."
   ]
  },
  {
   "cell_type": "code",
   "execution_count": 6,
   "id": "50bbd321",
   "metadata": {},
   "outputs": [],
   "source": [
    "reactions = db.get_reactions(component_names=wb.component_names)"
   ]
  },
  {
   "cell_type": "markdown",
   "id": "c1505882",
   "metadata": {},
   "source": [
    "### Add reactions to base configuration"
   ]
  },
  {
   "cell_type": "code",
   "execution_count": 8,
   "id": "862ef01d",
   "metadata": {},
   "outputs": [
    {
     "name": "stdout",
     "output_type": "stream",
     "text": [
      "adding reaction H2O_Kw_2 of type equilibrium\n"
     ]
    }
   ],
   "source": [
    "for r in reactions:\n",
    "    print(f\"adding reaction {r.name} of type {r.reaction_type}\")\n",
    "    # set a reaction order that is different from the stoichiometry\n",
    "    r.set_reaction_order('Liq', ('H2O',), ('H_+', 'OH_-'))\n",
    "    # mess with the 'type' of the reaction, if necessary\n",
    "    r._data[\"type\"] = \"inherent\"\n",
    "    wb.add(r)"
   ]
  },
  {
   "cell_type": "markdown",
   "id": "b4a40889",
   "metadata": {},
   "source": [
    "### Generate the IDAES config dict\n",
    "This is done 'magically' by accessing the `idaes_config` property of the base configuration object."
   ]
  },
  {
   "cell_type": "code",
   "execution_count": 9,
   "id": "38c23fa8",
   "metadata": {},
   "outputs": [
    {
     "data": {
      "text/plain": [
       "{'phases': {'Liq': {'type': idaes.core.phases.AqueousPhase,\n",
       "   'equation_of_state': idaes.generic_models.properties.core.eos.ideal.Ideal}},\n",
       " 'state_definition': idaes.generic_models.properties.core.state_definitions.FTPx.FTPx,\n",
       " 'state_bounds': {'flow_mol': (0, 50, 100),\n",
       "  'temperature': (273.15, 300, 650),\n",
       "  'pressure': (50000, 100000, 1000000)},\n",
       " 'pressure_ref': 100000,\n",
       " 'temperature_ref': 300,\n",
       " 'base_units': {'time': <pyomo.core.base.units_container._PyomoUnit at 0x28ce5cf1f40>,\n",
       "  'length': <pyomo.core.base.units_container._PyomoUnit at 0x28ce5d03070>,\n",
       "  'mass': <pyomo.core.base.units_container._PyomoUnit at 0x28ce5cf19a0>,\n",
       "  'amount': <pyomo.core.base.units_container._PyomoUnit at 0x28ce5d03430>,\n",
       "  'temperature': <pyomo.core.base.units_container._PyomoUnit at 0x28ce70927c0>},\n",
       " 'components': {'H_+': {'valid_phase_types': <PhaseType.aqueousPhase: 4>,\n",
       "   'dens_mol_liq_comp': idaes.generic_models.properties.core.pure.Perrys.Perrys,\n",
       "   'enth_mol_liq_comp': idaes.generic_models.properties.core.pure.Perrys.Perrys,\n",
       "   'cp_mol_liq_comp': idaes.generic_models.properties.core.pure.Perrys.Perrys,\n",
       "   'entr_mol_liq_comp': idaes.generic_models.properties.core.pure.Perrys.Perrys,\n",
       "   'parameter_data': {'mw': (1.00784,\n",
       "     <pyomo.core.expr.numeric_expr.NPV_DivisionExpression at 0x28ce7092d00>),\n",
       "    'dens_mol_liq_comp_coeff': {'1': (5.459,\n",
       "      <pyomo.core.expr.numeric_expr.NPV_ProductExpression at 0x28ce7092af0>),\n",
       "     '2': (0.30542,\n",
       "      <pyomo.core.base.units_container._PyomoUnit at 0x28ce70926d0>),\n",
       "     '3': (647.13,\n",
       "      <pyomo.core.base.units_container._PyomoUnit at 0x28ce70927c0>),\n",
       "     '4': (0.081,\n",
       "      <pyomo.core.base.units_container._PyomoUnit at 0x28ce70926d0>)},\n",
       "    'enth_mol_form_liq_comp_ref': (-230.0,\n",
       "     <pyomo.core.expr.numeric_expr.NPV_DivisionExpression at 0x28ce7092130>),\n",
       "    'cp_mol_liq_comp_coeff': {'1': (276370.0,\n",
       "      <pyomo.core.expr.numeric_expr.NPV_DivisionExpression at 0x28ce7092550>),\n",
       "     '2': (-2090.1,\n",
       "      <pyomo.core.expr.numeric_expr.NPV_DivisionExpression at 0x28ce70929d0>),\n",
       "     '3': (8.125,\n",
       "      <pyomo.core.expr.numeric_expr.NPV_DivisionExpression at 0x28ce7092340>),\n",
       "     '4': (-0.014116,\n",
       "      <pyomo.core.expr.numeric_expr.NPV_DivisionExpression at 0x28ce7092190>),\n",
       "     '5': (9.3701e-06,\n",
       "      <pyomo.core.expr.numeric_expr.NPV_DivisionExpression at 0x28ce7092490>)},\n",
       "    'entr_mol_form_liq_comp_ref': (-10.75,\n",
       "     <pyomo.core.expr.numeric_expr.NPV_DivisionExpression at 0x28ce7092100>)},\n",
       "   'type': idaes.core.components.Cation,\n",
       "   'charge': 1},\n",
       "  'OH_-': {'valid_phase_types': <PhaseType.aqueousPhase: 4>,\n",
       "   'dens_mol_liq_comp': idaes.generic_models.properties.core.pure.Perrys.Perrys,\n",
       "   'enth_mol_liq_comp': idaes.generic_models.properties.core.pure.Perrys.Perrys,\n",
       "   'cp_mol_liq_comp': idaes.generic_models.properties.core.pure.Perrys.Perrys,\n",
       "   'entr_mol_liq_comp': idaes.generic_models.properties.core.pure.Perrys.Perrys,\n",
       "   'parameter_data': {'mw': (17.008,\n",
       "     <pyomo.core.expr.numeric_expr.NPV_DivisionExpression at 0x28ce70aaee0>),\n",
       "    'dens_mol_liq_comp_coeff': {'1': (5.459,\n",
       "      <pyomo.core.expr.numeric_expr.NPV_ProductExpression at 0x28ce70aab20>),\n",
       "     '2': (0.30542,\n",
       "      <pyomo.core.base.units_container._PyomoUnit at 0x28ce70926d0>),\n",
       "     '3': (647.13,\n",
       "      <pyomo.core.base.units_container._PyomoUnit at 0x28ce70927c0>),\n",
       "     '4': (0.081,\n",
       "      <pyomo.core.base.units_container._PyomoUnit at 0x28ce70926d0>)},\n",
       "    'enth_mol_form_liq_comp_ref': (-230.0,\n",
       "     <pyomo.core.expr.numeric_expr.NPV_DivisionExpression at 0x28ce70aae50>),\n",
       "    'cp_mol_liq_comp_coeff': {'1': (276370.0,\n",
       "      <pyomo.core.expr.numeric_expr.NPV_DivisionExpression at 0x28ce70aa8b0>),\n",
       "     '2': (-2090.1,\n",
       "      <pyomo.core.expr.numeric_expr.NPV_DivisionExpression at 0x28ce70aae20>),\n",
       "     '3': (8.125,\n",
       "      <pyomo.core.expr.numeric_expr.NPV_DivisionExpression at 0x28ce70aaeb0>),\n",
       "     '4': (-0.014116,\n",
       "      <pyomo.core.expr.numeric_expr.NPV_DivisionExpression at 0x28ce70aae80>),\n",
       "     '5': (9.3701e-06,\n",
       "      <pyomo.core.expr.numeric_expr.NPV_DivisionExpression at 0x28ce70aa5e0>)},\n",
       "    'entr_mol_form_liq_comp_ref': (-10.75,\n",
       "     <pyomo.core.expr.numeric_expr.NPV_DivisionExpression at 0x28ce70aaac0>)},\n",
       "   'type': idaes.core.components.Anion,\n",
       "   'charge': -1},\n",
       "  'H2O': {'dens_mol_liq_comp': idaes.generic_models.properties.core.pure.Perrys.Perrys,\n",
       "   'enth_mol_liq_comp': idaes.generic_models.properties.core.pure.Perrys.Perrys,\n",
       "   'cp_mol_liq_comp': idaes.generic_models.properties.core.pure.Perrys.Perrys,\n",
       "   'entr_mol_liq_comp': idaes.generic_models.properties.core.pure.Perrys.Perrys,\n",
       "   'enth_mol_ig_comp': idaes.generic_models.properties.core.pure.NIST.NIST,\n",
       "   'pressure_sat_comp': idaes.generic_models.properties.core.pure.NIST.NIST,\n",
       "   'phase_equilibrium_form': {'Vap': idaes.generic_models.properties.core.phase_equil.forms.fugacity,\n",
       "    'Liq': idaes.generic_models.properties.core.phase_equil.forms.fugacity},\n",
       "   'parameter_data': {'mw': (18.0153,\n",
       "     <pyomo.core.expr.numeric_expr.NPV_DivisionExpression at 0x28ce6fce910>),\n",
       "    'pressure_crit': (22064000.0,\n",
       "     <pyomo.core.base.units_container._PyomoUnit at 0x28ce70927f0>),\n",
       "    'temperature_crit': (647,\n",
       "     <pyomo.core.base.units_container._PyomoUnit at 0x28ce70927c0>),\n",
       "    'dens_mol_liq_comp_coeff': {'1': (5.459,\n",
       "      <pyomo.core.expr.numeric_expr.NPV_ProductExpression at 0x28ce7092580>),\n",
       "     '2': (0.30542,\n",
       "      <pyomo.core.base.units_container._PyomoUnit at 0x28ce70926d0>),\n",
       "     '3': (647.13,\n",
       "      <pyomo.core.base.units_container._PyomoUnit at 0x28ce70927c0>),\n",
       "     '4': (0.081,\n",
       "      <pyomo.core.base.units_container._PyomoUnit at 0x28ce70926d0>)},\n",
       "    'enth_mol_form_liq_comp_ref': (-285.83,\n",
       "     <pyomo.core.expr.numeric_expr.NPV_DivisionExpression at 0x28ce7092040>),\n",
       "    'enth_mol_form_vap_comp_ref': (0,\n",
       "     <pyomo.core.expr.numeric_expr.NPV_DivisionExpression at 0x28ce7092b20>),\n",
       "    'cp_mol_liq_comp_coeff': {'1': (276370.0,\n",
       "      <pyomo.core.expr.numeric_expr.NPV_DivisionExpression at 0x28ce7092460>),\n",
       "     '2': (-2090.1,\n",
       "      <pyomo.core.expr.numeric_expr.NPV_DivisionExpression at 0x28ce7092520>),\n",
       "     '3': (8.125,\n",
       "      <pyomo.core.expr.numeric_expr.NPV_DivisionExpression at 0x28ce7092670>),\n",
       "     '4': (-0.014116,\n",
       "      <pyomo.core.expr.numeric_expr.NPV_DivisionExpression at 0x28ce7092820>),\n",
       "     '5': (9.3701e-06,\n",
       "      <pyomo.core.expr.numeric_expr.NPV_DivisionExpression at 0x28ce7092c70>)},\n",
       "    'cp_mol_ig_comp_coeff': {'A': (30.092,\n",
       "      <pyomo.core.expr.numeric_expr.NPV_DivisionExpression at 0x28ce7092e50>),\n",
       "     'B': (6.832514,\n",
       "      <pyomo.core.expr.numeric_expr.NPV_ProductExpression at 0x28ce7036400>),\n",
       "     'C': (6.793435,\n",
       "      <pyomo.core.expr.numeric_expr.NPV_ProductExpression at 0x28ce7036b50>),\n",
       "     'D': (-2.53448,\n",
       "      <pyomo.core.expr.numeric_expr.NPV_ProductExpression at 0x28ce7036be0>),\n",
       "     'E': (0.082139,\n",
       "      <pyomo.core.expr.numeric_expr.NPV_ProductExpression at 0x28ce7036340>),\n",
       "     'F': (-250.881,\n",
       "      <pyomo.core.expr.numeric_expr.NPV_DivisionExpression at 0x28ce7036790>),\n",
       "     'G': (223.3967,\n",
       "      <pyomo.core.expr.numeric_expr.NPV_DivisionExpression at 0x28ce7036460>),\n",
       "     'H': (0,\n",
       "      <pyomo.core.expr.numeric_expr.NPV_DivisionExpression at 0x28ce70361c0>)},\n",
       "    'entr_mol_form_liq_comp_ref': (69.95,\n",
       "     <pyomo.core.expr.numeric_expr.NPV_DivisionExpression at 0x28ce70363d0>),\n",
       "    'pressure_sat_comp_coeff': {'A': (4.6543,\n",
       "      <pyomo.core.base.units_container._PyomoUnit at 0x28ce70926d0>),\n",
       "     'B': (1435.264,\n",
       "      <pyomo.core.base.units_container._PyomoUnit at 0x28ce70927c0>),\n",
       "     'C': (-64.848,\n",
       "      <pyomo.core.base.units_container._PyomoUnit at 0x28ce70927c0>)}},\n",
       "   'type': idaes.core.components.Solvent}},\n",
       " 'inherent_reactions': {'H2O_Kw_2': {'stoichiometry': {('Liq', 'H2O'): -1,\n",
       "    ('Liq', 'H_+'): 1,\n",
       "    ('Liq', 'OH_-'): 1},\n",
       "   'heat_of_reaction': idaes.generic_models.properties.core.reactions.dh_rxn.constant_dh_rxn,\n",
       "   'equilibrium_constant': idaes.generic_models.properties.core.reactions.equilibrium_constant.van_t_hoff,\n",
       "   'equilibrium_form': idaes.generic_models.properties.core.reactions.equilibrium_forms.log_power_law_equil,\n",
       "   'concentration_form': <ConcentrationForm.activity: 2>,\n",
       "   'parameter_data': {'dh_rxn_ref': (0,\n",
       "     <pyomo.core.expr.numeric_expr.NPV_DivisionExpression at 0x28ce70aadf0>),\n",
       "    'k_eq_ref': (3.2818735559756347e-24,\n",
       "     <pyomo.core.expr.numeric_expr.NPV_DivisionExpression at 0x28ce70aaf40>),\n",
       "    'T_eq_ref': (298,\n",
       "     <pyomo.core.base.units_container._PyomoUnit at 0x28ce70927c0>),\n",
       "    'reaction_order': {('Liq', 'H2O'): 0,\n",
       "     ('Liq', 'H_+'): 1,\n",
       "     ('Liq', 'OH_-'): 1}}}}}"
      ]
     },
     "metadata": {},
     "output_type": "display_data"
    }
   ],
   "source": [
    "config = wb.idaes_config\n",
    "\n",
    "display(config)"
   ]
  },
  {
   "cell_type": "code",
   "execution_count": null,
   "id": "84ca94ba",
   "metadata": {},
   "outputs": [],
   "source": []
  }
 ],
 "metadata": {
  "kernelspec": {
   "display_name": "Python 3 (ipykernel)",
   "language": "python",
   "name": "python3"
  },
  "language_info": {
   "codemirror_mode": {
    "name": "ipython",
    "version": 3
   },
   "file_extension": ".py",
   "mimetype": "text/x-python",
   "name": "python",
   "nbconvert_exporter": "python",
   "pygments_lexer": "ipython3",
   "version": "3.9.6"
  }
 },
 "nbformat": 4,
 "nbformat_minor": 5
}
