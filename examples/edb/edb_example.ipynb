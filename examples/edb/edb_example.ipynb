{
 "cells": [
  {
   "cell_type": "markdown",
   "id": "798aa276",
   "metadata": {},
   "source": [
    "# Simple EDB Example\n",
    "\n",
    "**STEPS**\n",
    "\n",
    "1. Connect to the database\n",
    "2. Get 'base' for configuration\n",
    "3. Get components\n",
    "4. Get reactions\n",
    "5. Generate IDAES config"
   ]
  },
  {
   "cell_type": "markdown",
   "id": "c2a592db",
   "metadata": {},
   "source": [
    "## 1. Connect to the database\n",
    "By default, the class will attempt to connect to a MongoDB server running on port 27017 (default MongoDB port)\n",
    "on the local host. You can pass a connection string to choose any other valid MongoDB instance."
   ]
  },
  {
   "cell_type": "code",
   "execution_count": 2,
   "id": "1c72b70e",
   "metadata": {},
   "outputs": [
    {
     "name": "stdout",
     "output_type": "stream",
     "text": [
      "connecting to mongodb://localhost:27017\n"
     ]
    }
   ],
   "source": [
    "from watertap.edb import ElectrolyteDB\n",
    "\n",
    "print(f\"connecting to {ElectrolyteDB.DEFAULT_URL}\")\n",
    "db = ElectrolyteDB()"
   ]
  },
  {
   "cell_type": "markdown",
   "id": "f45a3117",
   "metadata": {},
   "source": [
    "### Failure to connect example\n",
    "If you try to connect to a database and it fails, there will be a logged error message and then the\n",
    "constructor will raise an error. If you really need to defer connection until later, add `check_connection=False`\n",
    "to the constructor arguments."
   ]
  },
  {
   "cell_type": "code",
   "execution_count": 4,
   "id": "3ec1593e",
   "metadata": {},
   "outputs": [
    {
     "name": "stdout",
     "output_type": "stream",
     "text": [
      "Didn't check the connection, no exception yet. But now...\n"
     ]
    },
    {
     "name": "stderr",
     "output_type": "stream",
     "text": [
      "Cannot connect to MongoDB server: some.other.host:27017: [Errno 11001] getaddrinfo failed, Timeout: 5.0s, Topology Description: <TopologyDescription id: 6172dfde1242bbb89e1fc47a, topology_type: Single, servers: [<ServerDescription ('some.other.host', 27017) server_type: Unknown, rtt: None, error=AutoReconnect('some.other.host:27017: [Errno 11001] getaddrinfo failed')>]>\n"
     ]
    },
    {
     "ename": "ServerSelectionTimeoutError",
     "evalue": "some.other.host:27017: [Errno 11001] getaddrinfo failed, Timeout: 5.0s, Topology Description: <TopologyDescription id: 6172dfde1242bbb89e1fc47a, topology_type: Single, servers: [<ServerDescription ('some.other.host', 27017) server_type: Unknown, rtt: None, error=AutoReconnect('some.other.host:27017: [Errno 11001] getaddrinfo failed')>]>",
     "output_type": "error",
     "traceback": [
      "\u001b[1;31m---------------------------------------------------------------------------\u001b[0m",
      "\u001b[1;31mServerSelectionTimeoutError\u001b[0m               Traceback (most recent call last)",
      "\u001b[1;32mC:\\Users\\DANGUN~1\\AppData\\Local\\Temp/ipykernel_37728/3164415298.py\u001b[0m in \u001b[0;36m<module>\u001b[1;34m\u001b[0m\n\u001b[0;32m      1\u001b[0m \u001b[0mdb2\u001b[0m \u001b[1;33m=\u001b[0m \u001b[0mElectrolyteDB\u001b[0m\u001b[1;33m(\u001b[0m\u001b[1;34m\"mongodb://some.other.host\"\u001b[0m\u001b[1;33m,\u001b[0m \u001b[0mcheck_connection\u001b[0m\u001b[1;33m=\u001b[0m\u001b[1;32mFalse\u001b[0m\u001b[1;33m)\u001b[0m\u001b[1;33m\u001b[0m\u001b[1;33m\u001b[0m\u001b[0m\n\u001b[0;32m      2\u001b[0m \u001b[0mprint\u001b[0m\u001b[1;33m(\u001b[0m\u001b[1;34m\"Didn't check the connection, no exception yet. But now...\"\u001b[0m\u001b[1;33m)\u001b[0m\u001b[1;33m\u001b[0m\u001b[1;33m\u001b[0m\u001b[0m\n\u001b[1;32m----> 3\u001b[1;33m \u001b[0mdb2\u001b[0m \u001b[1;33m=\u001b[0m \u001b[0mElectrolyteDB\u001b[0m\u001b[1;33m(\u001b[0m\u001b[1;34m\"mongodb://some.other.host\"\u001b[0m\u001b[1;33m)\u001b[0m\u001b[1;33m\u001b[0m\u001b[1;33m\u001b[0m\u001b[0m\n\u001b[0m",
      "\u001b[1;32mc:\\users\\dangunter\\src\\nawi\\dangunter\\proteuslib\\watertap\\edb\\db_api.py\u001b[0m in \u001b[0;36m__init__\u001b[1;34m(self, url, db, check_connection)\u001b[0m\n\u001b[0;32m     78\u001b[0m         \u001b[1;32mif\u001b[0m \u001b[0mcheck_connection\u001b[0m\u001b[1;33m:\u001b[0m\u001b[1;33m\u001b[0m\u001b[1;33m\u001b[0m\u001b[0m\n\u001b[0;32m     79\u001b[0m             \u001b[1;32mtry\u001b[0m\u001b[1;33m:\u001b[0m\u001b[1;33m\u001b[0m\u001b[1;33m\u001b[0m\u001b[0m\n\u001b[1;32m---> 80\u001b[1;33m                 \u001b[0mself\u001b[0m\u001b[1;33m.\u001b[0m\u001b[0m_client\u001b[0m\u001b[1;33m.\u001b[0m\u001b[0madmin\u001b[0m\u001b[1;33m.\u001b[0m\u001b[0mcommand\u001b[0m\u001b[1;33m(\u001b[0m\u001b[1;34m\"ismaster\"\u001b[0m\u001b[1;33m)\u001b[0m\u001b[1;33m\u001b[0m\u001b[1;33m\u001b[0m\u001b[0m\n\u001b[0m\u001b[0;32m     81\u001b[0m             \u001b[1;32mexcept\u001b[0m \u001b[0mConnectionFailure\u001b[0m \u001b[1;32mas\u001b[0m \u001b[0merr\u001b[0m\u001b[1;33m:\u001b[0m\u001b[1;33m\u001b[0m\u001b[1;33m\u001b[0m\u001b[0m\n\u001b[0;32m     82\u001b[0m                 \u001b[0m_log\u001b[0m\u001b[1;33m.\u001b[0m\u001b[0merror\u001b[0m\u001b[1;33m(\u001b[0m\u001b[1;34mf\"Cannot connect to MongoDB server: {err}\"\u001b[0m\u001b[1;33m)\u001b[0m\u001b[1;33m\u001b[0m\u001b[1;33m\u001b[0m\u001b[0m\n",
      "\u001b[1;32m~\\miniconda3\\envs\\nawi-edb\\lib\\site-packages\\pymongo\\database.py\u001b[0m in \u001b[0;36mcommand\u001b[1;34m(self, command, value, check, allowable_errors, read_preference, codec_options, session, **kwargs)\u001b[0m\n\u001b[0;32m    749\u001b[0m             read_preference = ((session and session._txn_read_preference())\n\u001b[0;32m    750\u001b[0m                                or ReadPreference.PRIMARY)\n\u001b[1;32m--> 751\u001b[1;33m         with self.__client._socket_for_reads(\n\u001b[0m\u001b[0;32m    752\u001b[0m                 read_preference, session) as (sock_info, secondary_ok):\n\u001b[0;32m    753\u001b[0m             return self._command(sock_info, command, secondary_ok, value,\n",
      "\u001b[1;32m~\\miniconda3\\envs\\nawi-edb\\lib\\contextlib.py\u001b[0m in \u001b[0;36m__enter__\u001b[1;34m(self)\u001b[0m\n\u001b[0;32m    115\u001b[0m         \u001b[1;32mdel\u001b[0m \u001b[0mself\u001b[0m\u001b[1;33m.\u001b[0m\u001b[0margs\u001b[0m\u001b[1;33m,\u001b[0m \u001b[0mself\u001b[0m\u001b[1;33m.\u001b[0m\u001b[0mkwds\u001b[0m\u001b[1;33m,\u001b[0m \u001b[0mself\u001b[0m\u001b[1;33m.\u001b[0m\u001b[0mfunc\u001b[0m\u001b[1;33m\u001b[0m\u001b[1;33m\u001b[0m\u001b[0m\n\u001b[0;32m    116\u001b[0m         \u001b[1;32mtry\u001b[0m\u001b[1;33m:\u001b[0m\u001b[1;33m\u001b[0m\u001b[1;33m\u001b[0m\u001b[0m\n\u001b[1;32m--> 117\u001b[1;33m             \u001b[1;32mreturn\u001b[0m \u001b[0mnext\u001b[0m\u001b[1;33m(\u001b[0m\u001b[0mself\u001b[0m\u001b[1;33m.\u001b[0m\u001b[0mgen\u001b[0m\u001b[1;33m)\u001b[0m\u001b[1;33m\u001b[0m\u001b[1;33m\u001b[0m\u001b[0m\n\u001b[0m\u001b[0;32m    118\u001b[0m         \u001b[1;32mexcept\u001b[0m \u001b[0mStopIteration\u001b[0m\u001b[1;33m:\u001b[0m\u001b[1;33m\u001b[0m\u001b[1;33m\u001b[0m\u001b[0m\n\u001b[0;32m    119\u001b[0m             \u001b[1;32mraise\u001b[0m \u001b[0mRuntimeError\u001b[0m\u001b[1;33m(\u001b[0m\u001b[1;34m\"generator didn't yield\"\u001b[0m\u001b[1;33m)\u001b[0m \u001b[1;32mfrom\u001b[0m \u001b[1;32mNone\u001b[0m\u001b[1;33m\u001b[0m\u001b[1;33m\u001b[0m\u001b[0m\n",
      "\u001b[1;32m~\\miniconda3\\envs\\nawi-edb\\lib\\site-packages\\pymongo\\mongo_client.py\u001b[0m in \u001b[0;36m_socket_for_reads\u001b[1;34m(self, read_preference, session)\u001b[0m\n\u001b[0;32m   1385\u001b[0m         \u001b[0mtopology\u001b[0m \u001b[1;33m=\u001b[0m \u001b[0mself\u001b[0m\u001b[1;33m.\u001b[0m\u001b[0m_get_topology\u001b[0m\u001b[1;33m(\u001b[0m\u001b[1;33m)\u001b[0m\u001b[1;33m\u001b[0m\u001b[1;33m\u001b[0m\u001b[0m\n\u001b[0;32m   1386\u001b[0m         \u001b[0msingle\u001b[0m \u001b[1;33m=\u001b[0m \u001b[0mtopology\u001b[0m\u001b[1;33m.\u001b[0m\u001b[0mdescription\u001b[0m\u001b[1;33m.\u001b[0m\u001b[0mtopology_type\u001b[0m \u001b[1;33m==\u001b[0m \u001b[0mTOPOLOGY_TYPE\u001b[0m\u001b[1;33m.\u001b[0m\u001b[0mSingle\u001b[0m\u001b[1;33m\u001b[0m\u001b[1;33m\u001b[0m\u001b[0m\n\u001b[1;32m-> 1387\u001b[1;33m         \u001b[0mserver\u001b[0m \u001b[1;33m=\u001b[0m \u001b[0mself\u001b[0m\u001b[1;33m.\u001b[0m\u001b[0m_select_server\u001b[0m\u001b[1;33m(\u001b[0m\u001b[0mread_preference\u001b[0m\u001b[1;33m,\u001b[0m \u001b[0msession\u001b[0m\u001b[1;33m)\u001b[0m\u001b[1;33m\u001b[0m\u001b[1;33m\u001b[0m\u001b[0m\n\u001b[0m\u001b[0;32m   1388\u001b[0m \u001b[1;33m\u001b[0m\u001b[0m\n\u001b[0;32m   1389\u001b[0m         \u001b[1;32mwith\u001b[0m \u001b[0mself\u001b[0m\u001b[1;33m.\u001b[0m\u001b[0m_get_socket\u001b[0m\u001b[1;33m(\u001b[0m\u001b[0mserver\u001b[0m\u001b[1;33m,\u001b[0m \u001b[0msession\u001b[0m\u001b[1;33m)\u001b[0m \u001b[1;32mas\u001b[0m \u001b[0msock_info\u001b[0m\u001b[1;33m:\u001b[0m\u001b[1;33m\u001b[0m\u001b[1;33m\u001b[0m\u001b[0m\n",
      "\u001b[1;32m~\\miniconda3\\envs\\nawi-edb\\lib\\site-packages\\pymongo\\mongo_client.py\u001b[0m in \u001b[0;36m_select_server\u001b[1;34m(self, server_selector, session, address)\u001b[0m\n\u001b[0;32m   1344\u001b[0m                                         % address)\n\u001b[0;32m   1345\u001b[0m             \u001b[1;32melse\u001b[0m\u001b[1;33m:\u001b[0m\u001b[1;33m\u001b[0m\u001b[1;33m\u001b[0m\u001b[0m\n\u001b[1;32m-> 1346\u001b[1;33m                 \u001b[0mserver\u001b[0m \u001b[1;33m=\u001b[0m \u001b[0mtopology\u001b[0m\u001b[1;33m.\u001b[0m\u001b[0mselect_server\u001b[0m\u001b[1;33m(\u001b[0m\u001b[0mserver_selector\u001b[0m\u001b[1;33m)\u001b[0m\u001b[1;33m\u001b[0m\u001b[1;33m\u001b[0m\u001b[0m\n\u001b[0m\u001b[0;32m   1347\u001b[0m             \u001b[1;32mreturn\u001b[0m \u001b[0mserver\u001b[0m\u001b[1;33m\u001b[0m\u001b[1;33m\u001b[0m\u001b[0m\n\u001b[0;32m   1348\u001b[0m         \u001b[1;32mexcept\u001b[0m \u001b[0mPyMongoError\u001b[0m \u001b[1;32mas\u001b[0m \u001b[0mexc\u001b[0m\u001b[1;33m:\u001b[0m\u001b[1;33m\u001b[0m\u001b[1;33m\u001b[0m\u001b[0m\n",
      "\u001b[1;32m~\\miniconda3\\envs\\nawi-edb\\lib\\site-packages\\pymongo\\topology.py\u001b[0m in \u001b[0;36mselect_server\u001b[1;34m(self, selector, server_selection_timeout, address)\u001b[0m\n\u001b[0;32m    242\u001b[0m                       address=None):\n\u001b[0;32m    243\u001b[0m         \u001b[1;34m\"\"\"Like select_servers, but choose a random server if several match.\"\"\"\u001b[0m\u001b[1;33m\u001b[0m\u001b[1;33m\u001b[0m\u001b[0m\n\u001b[1;32m--> 244\u001b[1;33m         return random.choice(self.select_servers(selector,\n\u001b[0m\u001b[0;32m    245\u001b[0m                                                  \u001b[0mserver_selection_timeout\u001b[0m\u001b[1;33m,\u001b[0m\u001b[1;33m\u001b[0m\u001b[1;33m\u001b[0m\u001b[0m\n\u001b[0;32m    246\u001b[0m                                                  address))\n",
      "\u001b[1;32m~\\miniconda3\\envs\\nawi-edb\\lib\\site-packages\\pymongo\\topology.py\u001b[0m in \u001b[0;36mselect_servers\u001b[1;34m(self, selector, server_selection_timeout, address)\u001b[0m\n\u001b[0;32m    200\u001b[0m \u001b[1;33m\u001b[0m\u001b[0m\n\u001b[0;32m    201\u001b[0m         \u001b[1;32mwith\u001b[0m \u001b[0mself\u001b[0m\u001b[1;33m.\u001b[0m\u001b[0m_lock\u001b[0m\u001b[1;33m:\u001b[0m\u001b[1;33m\u001b[0m\u001b[1;33m\u001b[0m\u001b[0m\n\u001b[1;32m--> 202\u001b[1;33m             server_descriptions = self._select_servers_loop(\n\u001b[0m\u001b[0;32m    203\u001b[0m                 selector, server_timeout, address)\n\u001b[0;32m    204\u001b[0m \u001b[1;33m\u001b[0m\u001b[0m\n",
      "\u001b[1;32m~\\miniconda3\\envs\\nawi-edb\\lib\\site-packages\\pymongo\\topology.py\u001b[0m in \u001b[0;36m_select_servers_loop\u001b[1;34m(self, selector, timeout, address)\u001b[0m\n\u001b[0;32m    216\u001b[0m             \u001b[1;31m# No suitable servers.\u001b[0m\u001b[1;33m\u001b[0m\u001b[1;33m\u001b[0m\u001b[1;33m\u001b[0m\u001b[0m\n\u001b[0;32m    217\u001b[0m             \u001b[1;32mif\u001b[0m \u001b[0mtimeout\u001b[0m \u001b[1;33m==\u001b[0m \u001b[1;36m0\u001b[0m \u001b[1;32mor\u001b[0m \u001b[0mnow\u001b[0m \u001b[1;33m>\u001b[0m \u001b[0mend_time\u001b[0m\u001b[1;33m:\u001b[0m\u001b[1;33m\u001b[0m\u001b[1;33m\u001b[0m\u001b[0m\n\u001b[1;32m--> 218\u001b[1;33m                 raise ServerSelectionTimeoutError(\n\u001b[0m\u001b[0;32m    219\u001b[0m                     \u001b[1;34m\"%s, Timeout: %ss, Topology Description: %r\"\u001b[0m \u001b[1;33m%\u001b[0m\u001b[1;33m\u001b[0m\u001b[1;33m\u001b[0m\u001b[0m\n\u001b[0;32m    220\u001b[0m                     (self._error_message(selector), timeout, self.description))\n",
      "\u001b[1;31mServerSelectionTimeoutError\u001b[0m: some.other.host:27017: [Errno 11001] getaddrinfo failed, Timeout: 5.0s, Topology Description: <TopologyDescription id: 6172dfde1242bbb89e1fc47a, topology_type: Single, servers: [<ServerDescription ('some.other.host', 27017) server_type: Unknown, rtt: None, error=AutoReconnect('some.other.host:27017: [Errno 11001] getaddrinfo failed')>]>"
     ]
    }
   ],
   "source": [
    "db2 = ElectrolyteDB(\"mongodb://some.other.host\", check_connection=False)\n",
    "print(\"Didn't check the connection, no exception yet. But now...\")\n",
    "db2 = ElectrolyteDB(\"mongodb://some.other.host\")"
   ]
  },
  {
   "cell_type": "markdown",
   "id": "8a878a66",
   "metadata": {},
   "source": [
    "## 2. Get a 'base' for the configuration\n",
    "Either `thermo` or `water_reaction`, currently."
   ]
  },
  {
   "cell_type": "code",
   "execution_count": null,
   "id": "246bcdaa",
   "metadata": {},
   "outputs": [],
   "source": [
    "wb = db.get_base(\"thermo\")"
   ]
  },
  {
   "cell_type": "markdown",
   "id": "3b013788",
   "metadata": {},
   "source": [
    "## 3. Get components\n",
    "You can get components explicitly or by giving a list of elements."
   ]
  },
  {
   "cell_type": "code",
   "execution_count": null,
   "id": "c7d4b017",
   "metadata": {},
   "outputs": [],
   "source": [
    "element_list = [\"H\", \"O\"]\n",
    "\n",
    "components = db.get_components(element_names=element_list)"
   ]
  },
  {
   "cell_type": "markdown",
   "id": "7a7ac071",
   "metadata": {},
   "source": [
    "### Add components to base configuration"
   ]
  },
  {
   "cell_type": "code",
   "execution_count": null,
   "id": "0f2585ea",
   "metadata": {},
   "outputs": [],
   "source": [
    "for comp in components:\n",
    "    print(f\"adding component {comp.name}\")\n",
    "    wb.add(comp)"
   ]
  },
  {
   "cell_type": "markdown",
   "id": "90a6ea1b",
   "metadata": {},
   "source": [
    "## 4. Get reactions\n",
    "You generally want to get all the reactions associated with the same set of components.\n",
    "You can also fetch reactions explicitly by name by providing a `reaction_names` keyword argument.\n",
    "For fetching by component, the flag `any_components` controls its behavior. From the docstring:\n",
    "\n",
    "     any_components: If False, the default, only return reactions where\n",
    "                     one side of the reaction has all components provided.\n",
    "                     If true, return the (potentially larger) set of reactions where\n",
    "                     any of the components listed are present."
   ]
  },
  {
   "cell_type": "code",
   "execution_count": null,
   "id": "aa8c96bb",
   "metadata": {},
   "outputs": [],
   "source": [
    "reactions = db.get_reactions(component_names=wb.component_names)"
   ]
  },
  {
   "cell_type": "markdown",
   "id": "93b79ae0",
   "metadata": {},
   "source": [
    "### Add reactions to base configuration"
   ]
  },
  {
   "cell_type": "code",
   "execution_count": null,
   "id": "3b7a5bb5",
   "metadata": {},
   "outputs": [],
   "source": [
    "for r in reactions:\n",
    "    print(f\"adding {r.reaction_type} reaction: {r.name}\")\n",
    "    # set a reaction order that is different from the stoichiometry\n",
    "    print(f\"- stoichiometry = {r._data['stoichiometry']}\")\n",
    "    r.set_reaction_order('Liq', ('H2O',), ('H_+', 'OH_-'))\n",
    "    print(f\"- reaction order = {r._data['parameter_data']['reaction_order']}\")\n",
    "    # mess with the 'type' of the reaction, if necessary\n",
    "    r._data[\"type\"] = \"inherent\"\n",
    "    wb.add(r)"
   ]
  },
  {
   "cell_type": "markdown",
   "id": "3636a7fe",
   "metadata": {},
   "source": [
    "## 5. Generate the IDAES config dict\n",
    "This is done 'magically' by accessing the `idaes_config` property of the base configuration object."
   ]
  },
  {
   "cell_type": "code",
   "execution_count": null,
   "id": "15699316",
   "metadata": {},
   "outputs": [],
   "source": [
    "config = wb.idaes_config\n",
    "\n",
    "display(config)"
   ]
  },
  {
   "cell_type": "code",
   "execution_count": null,
   "id": "08047c9e",
   "metadata": {},
   "outputs": [],
   "source": []
  }
 ],
 "metadata": {
  "kernelspec": {
   "display_name": "Python 3 (ipykernel)",
   "language": "python",
   "name": "python3"
  },
  "language_info": {
   "codemirror_mode": {
    "name": "ipython",
    "version": 3
   },
   "file_extension": ".py",
   "mimetype": "text/x-python",
   "name": "python",
   "nbconvert_exporter": "python",
   "pygments_lexer": "ipython3",
   "version": "3.9.6"
  }
 },
 "nbformat": 4,
 "nbformat_minor": 5
}
